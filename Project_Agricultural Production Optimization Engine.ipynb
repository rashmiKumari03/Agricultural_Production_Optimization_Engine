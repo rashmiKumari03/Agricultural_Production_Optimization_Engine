{
 "cells": [
  {
   "cell_type": "code",
   "execution_count": 1,
   "id": "733f850c",
   "metadata": {},
   "outputs": [],
   "source": [
    "# PROBLEM AND GOAL"
   ]
  },
  {
   "cell_type": "code",
   "execution_count": 2,
   "id": "b705adbf",
   "metadata": {},
   "outputs": [],
   "source": [
    "#PROBLEM:BUILD A PREDICTIVE MODEL SO AS TO SUGGEST THE MOST SUITABLE CROPS TO GROW \n",
    "#BASED ON THE AVAILABLE CLIMATE AND SOIL CONDITIONS."
   ]
  },
  {
   "cell_type": "code",
   "execution_count": 3,
   "id": "4059bfa0",
   "metadata": {},
   "outputs": [],
   "source": [
    "#GOAL: ACHIEVE PRECISION FARMING BY OPTIMIZING THE AGRICULTURAL PRODUCTION."
   ]
  },
  {
   "cell_type": "code",
   "execution_count": 4,
   "id": "33d69bea",
   "metadata": {},
   "outputs": [],
   "source": [
    "#THIS PROJECT IS INTENDED ON PRECISION FARMING.\n",
    "#1.WE HAVE TO OPTIMIZE PRODUCTIVITY.\n",
    "#2.BY UNDERSTANDIMG REQUIREMNENTS OF CLIMATE AND SOIL CONDITIONS FOR CROPS.\n",
    "#3.HELPS US TO COPE UP WITH WEATHER UNPREDICTABILITY."
   ]
  },
  {
   "cell_type": "code",
   "execution_count": 5,
   "id": "462dea73",
   "metadata": {},
   "outputs": [],
   "source": [
    "#INTERVIEW QUESTION....\n",
    "#1.WHAT IS THE FINAL OUTCOME OF YOUR PROJECT?\n",
    "#2.WHAT IS THE BUSINESS IMPACT OF YOUR PROJECT?\n",
    "#3.WHAT PROBLEM YOU ARE TRYING TO SOLVE?\n",
    "#4.WHO WERE YOUR END USERS ,WHO GOT POSITIVELY IMPACTED BY THIS PROJECT OUTCOME?"
   ]
  },
  {
   "cell_type": "code",
   "execution_count": 6,
   "id": "94be1068",
   "metadata": {},
   "outputs": [],
   "source": [
    "#This is Unsupervised learning problem......so we dont need the last \"label\" column to do your predicitve analysis."
   ]
  },
  {
   "cell_type": "markdown",
   "id": "44735436",
   "metadata": {},
   "source": [
    "# INSTALLING LIBRARIES"
   ]
  },
  {
   "cell_type": "code",
   "execution_count": 7,
   "id": "bedecd59",
   "metadata": {},
   "outputs": [],
   "source": [
    "#installing all the libraries:\n",
    "#1. install numpy: NumPy is used to perform complex mathematical operations.\n",
    "#2. install pandas: Pandas is used for dataframe manupulation.\n",
    "#3. install matplotlib : matplotlib is used for crateing data visulaization.\n",
    "#4. install seaborn : seaborn is the library which is also used  for creating the data visulzation.\n",
    "#5. install ipywidgets : this is used for interactive analysis.\n",
    "#6. install sklearn : this library is used to implement the complex machine learning algorithms."
   ]
  },
  {
   "cell_type": "code",
   "execution_count": 8,
   "id": "6e4a88b9",
   "metadata": {},
   "outputs": [
    {
     "name": "stdout",
     "output_type": "stream",
     "text": [
      "Requirement already satisfied: numpy in c:\\users\\admin\\new_anaconda\\lib\\site-packages (1.20.1)Note: you may need to restart the kernel to use updated packages.\n",
      "\n"
     ]
    }
   ],
   "source": [
    "pip install numpy"
   ]
  },
  {
   "cell_type": "code",
   "execution_count": 9,
   "id": "9b987dd8",
   "metadata": {},
   "outputs": [
    {
     "name": "stdout",
     "output_type": "stream",
     "text": [
      "Requirement already satisfied: pandas in c:\\users\\admin\\new_anaconda\\lib\\site-packages (1.2.4)\n",
      "Requirement already satisfied: python-dateutil>=2.7.3 in c:\\users\\admin\\new_anaconda\\lib\\site-packages (from pandas) (2.8.1)\n",
      "Requirement already satisfied: numpy>=1.16.5 in c:\\users\\admin\\new_anaconda\\lib\\site-packages (from pandas) (1.20.1)\n",
      "Requirement already satisfied: pytz>=2017.3 in c:\\users\\admin\\new_anaconda\\lib\\site-packages (from pandas) (2021.1)\n",
      "Requirement already satisfied: six>=1.5 in c:\\users\\admin\\new_anaconda\\lib\\site-packages (from python-dateutil>=2.7.3->pandas) (1.15.0)\n",
      "Note: you may need to restart the kernel to use updated packages.\n"
     ]
    }
   ],
   "source": [
    "pip install pandas"
   ]
  },
  {
   "cell_type": "code",
   "execution_count": 10,
   "id": "7aab23e6",
   "metadata": {},
   "outputs": [
    {
     "name": "stdout",
     "output_type": "stream",
     "text": [
      "Requirement already satisfied: matplotlib in c:\\users\\admin\\new_anaconda\\lib\\site-packages (3.3.4)\n",
      "Requirement already satisfied: cycler>=0.10 in c:\\users\\admin\\new_anaconda\\lib\\site-packages (from matplotlib) (0.10.0)\n",
      "Requirement already satisfied: pillow>=6.2.0 in c:\\users\\admin\\new_anaconda\\lib\\site-packages (from matplotlib) (8.2.0)\n",
      "Requirement already satisfied: python-dateutil>=2.1 in c:\\users\\admin\\new_anaconda\\lib\\site-packages (from matplotlib) (2.8.1)\n",
      "Requirement already satisfied: numpy>=1.15 in c:\\users\\admin\\new_anaconda\\lib\\site-packages (from matplotlib) (1.20.1)\n",
      "Requirement already satisfied: kiwisolver>=1.0.1 in c:\\users\\admin\\new_anaconda\\lib\\site-packages (from matplotlib) (1.3.1)\n",
      "Requirement already satisfied: pyparsing!=2.0.4,!=2.1.2,!=2.1.6,>=2.0.3 in c:\\users\\admin\\new_anaconda\\lib\\site-packages (from matplotlib) (2.4.7)\n",
      "Requirement already satisfied: six in c:\\users\\admin\\new_anaconda\\lib\\site-packages (from cycler>=0.10->matplotlib) (1.15.0)\n",
      "Note: you may need to restart the kernel to use updated packages.\n"
     ]
    }
   ],
   "source": [
    "pip install matplotlib"
   ]
  },
  {
   "cell_type": "code",
   "execution_count": 11,
   "id": "ed2b8b60",
   "metadata": {},
   "outputs": [
    {
     "name": "stdout",
     "output_type": "stream",
     "text": [
      "Requirement already satisfied: seaborn in c:\\users\\admin\\new_anaconda\\lib\\site-packages (0.11.1)\n",
      "Requirement already satisfied: numpy>=1.15 in c:\\users\\admin\\new_anaconda\\lib\\site-packages (from seaborn) (1.20.1)\n",
      "Requirement already satisfied: pandas>=0.23 in c:\\users\\admin\\new_anaconda\\lib\\site-packages (from seaborn) (1.2.4)\n",
      "Requirement already satisfied: matplotlib>=2.2 in c:\\users\\admin\\new_anaconda\\lib\\site-packages (from seaborn) (3.3.4)\n",
      "Requirement already satisfied: scipy>=1.0 in c:\\users\\admin\\new_anaconda\\lib\\site-packages (from seaborn) (1.6.2)\n",
      "Requirement already satisfied: pillow>=6.2.0 in c:\\users\\admin\\new_anaconda\\lib\\site-packages (from matplotlib>=2.2->seaborn) (8.2.0)\n",
      "Requirement already satisfied: kiwisolver>=1.0.1 in c:\\users\\admin\\new_anaconda\\lib\\site-packages (from matplotlib>=2.2->seaborn) (1.3.1)\n",
      "Requirement already satisfied: pyparsing!=2.0.4,!=2.1.2,!=2.1.6,>=2.0.3 in c:\\users\\admin\\new_anaconda\\lib\\site-packages (from matplotlib>=2.2->seaborn) (2.4.7)\n",
      "Requirement already satisfied: python-dateutil>=2.1 in c:\\users\\admin\\new_anaconda\\lib\\site-packages (from matplotlib>=2.2->seaborn) (2.8.1)\n",
      "Requirement already satisfied: cycler>=0.10 in c:\\users\\admin\\new_anaconda\\lib\\site-packages (from matplotlib>=2.2->seaborn) (0.10.0)\n",
      "Requirement already satisfied: six in c:\\users\\admin\\new_anaconda\\lib\\site-packages (from cycler>=0.10->matplotlib>=2.2->seaborn) (1.15.0)\n",
      "Requirement already satisfied: pytz>=2017.3 in c:\\users\\admin\\new_anaconda\\lib\\site-packages (from pandas>=0.23->seaborn) (2021.1)\n",
      "Note: you may need to restart the kernel to use updated packages.\n"
     ]
    }
   ],
   "source": [
    "pip install seaborn"
   ]
  },
  {
   "cell_type": "code",
   "execution_count": 12,
   "id": "20054fda",
   "metadata": {},
   "outputs": [
    {
     "name": "stdout",
     "output_type": "stream",
     "text": [
      "Requirement already satisfied: ipywidgets in c:\\users\\admin\\new_anaconda\\lib\\site-packages (7.6.3)\n",
      "Requirement already satisfied: ipython>=4.0.0 in c:\\users\\admin\\new_anaconda\\lib\\site-packages (from ipywidgets) (7.22.0)\n",
      "Requirement already satisfied: jupyterlab-widgets>=1.0.0 in c:\\users\\admin\\new_anaconda\\lib\\site-packages (from ipywidgets) (1.0.0)\n",
      "Requirement already satisfied: widgetsnbextension~=3.5.0 in c:\\users\\admin\\new_anaconda\\lib\\site-packages (from ipywidgets) (3.5.1)\n",
      "Requirement already satisfied: nbformat>=4.2.0 in c:\\users\\admin\\new_anaconda\\lib\\site-packages (from ipywidgets) (5.1.3)\n",
      "Requirement already satisfied: traitlets>=4.3.1 in c:\\users\\admin\\new_anaconda\\lib\\site-packages (from ipywidgets) (5.0.5)\n",
      "Requirement already satisfied: ipykernel>=4.5.1 in c:\\users\\admin\\new_anaconda\\lib\\site-packages (from ipywidgets) (5.3.4)\n",
      "Requirement already satisfied: jupyter-client in c:\\users\\admin\\new_anaconda\\lib\\site-packages (from ipykernel>=4.5.1->ipywidgets) (6.1.12)\n",
      "Requirement already satisfied: tornado>=4.2 in c:\\users\\admin\\new_anaconda\\lib\\site-packages (from ipykernel>=4.5.1->ipywidgets) (6.1)\n",
      "Requirement already satisfied: backcall in c:\\users\\admin\\new_anaconda\\lib\\site-packages (from ipython>=4.0.0->ipywidgets) (0.2.0)\n",
      "Requirement already satisfied: colorama in c:\\users\\admin\\new_anaconda\\lib\\site-packages (from ipython>=4.0.0->ipywidgets) (0.4.4)\n",
      "Requirement already satisfied: pickleshare in c:\\users\\admin\\new_anaconda\\lib\\site-packages (from ipython>=4.0.0->ipywidgets) (0.7.5)\n",
      "Requirement already satisfied: setuptools>=18.5 in c:\\users\\admin\\new_anaconda\\lib\\site-packages (from ipython>=4.0.0->ipywidgets) (52.0.0.post20210125)\n",
      "Requirement already satisfied: decorator in c:\\users\\admin\\new_anaconda\\lib\\site-packages (from ipython>=4.0.0->ipywidgets) (5.0.6)\n",
      "Requirement already satisfied: prompt-toolkit!=3.0.0,!=3.0.1,<3.1.0,>=2.0.0 in c:\\users\\admin\\new_anaconda\\lib\\site-packages (from ipython>=4.0.0->ipywidgets) (3.0.17)\n",
      "Requirement already satisfied: pygments in c:\\users\\admin\\new_anaconda\\lib\\site-packages (from ipython>=4.0.0->ipywidgets) (2.8.1)\n",
      "Requirement already satisfied: jedi>=0.16 in c:\\users\\admin\\new_anaconda\\lib\\site-packages (from ipython>=4.0.0->ipywidgets) (0.17.2)\n",
      "Requirement already satisfied: parso<0.8.0,>=0.7.0 in c:\\users\\admin\\new_anaconda\\lib\\site-packages (from jedi>=0.16->ipython>=4.0.0->ipywidgets) (0.7.0)\n",
      "Requirement already satisfied: jupyter-core in c:\\users\\admin\\new_anaconda\\lib\\site-packages (from nbformat>=4.2.0->ipywidgets) (4.7.1)\n",
      "Requirement already satisfied: ipython-genutils in c:\\users\\admin\\new_anaconda\\lib\\site-packages (from nbformat>=4.2.0->ipywidgets) (0.2.0)\n",
      "Requirement already satisfied: jsonschema!=2.5.0,>=2.4 in c:\\users\\admin\\new_anaconda\\lib\\site-packages (from nbformat>=4.2.0->ipywidgets) (3.2.0)\n",
      "Requirement already satisfied: pyrsistent>=0.14.0 in c:\\users\\admin\\new_anaconda\\lib\\site-packages (from jsonschema!=2.5.0,>=2.4->nbformat>=4.2.0->ipywidgets) (0.17.3)\n",
      "Requirement already satisfied: attrs>=17.4.0 in c:\\users\\admin\\new_anaconda\\lib\\site-packages (from jsonschema!=2.5.0,>=2.4->nbformat>=4.2.0->ipywidgets) (20.3.0)\n",
      "Requirement already satisfied: six>=1.11.0 in c:\\users\\admin\\new_anaconda\\lib\\site-packages (from jsonschema!=2.5.0,>=2.4->nbformat>=4.2.0->ipywidgets) (1.15.0)\n",
      "Requirement already satisfied: wcwidth in c:\\users\\admin\\new_anaconda\\lib\\site-packages (from prompt-toolkit!=3.0.0,!=3.0.1,<3.1.0,>=2.0.0->ipython>=4.0.0->ipywidgets) (0.2.5)\n",
      "Requirement already satisfied: notebook>=4.4.1 in c:\\users\\admin\\new_anaconda\\lib\\site-packages (from widgetsnbextension~=3.5.0->ipywidgets) (6.3.0)\n",
      "Requirement already satisfied: prometheus-client in c:\\users\\admin\\new_anaconda\\lib\\site-packages (from notebook>=4.4.1->widgetsnbextension~=3.5.0->ipywidgets) (0.10.1)\n",
      "Requirement already satisfied: nbconvert in c:\\users\\admin\\new_anaconda\\lib\\site-packages (from notebook>=4.4.1->widgetsnbextension~=3.5.0->ipywidgets) (6.0.7)\n",
      "Requirement already satisfied: pyzmq>=17 in c:\\users\\admin\\new_anaconda\\lib\\site-packages (from notebook>=4.4.1->widgetsnbextension~=3.5.0->ipywidgets) (20.0.0)\n",
      "Requirement already satisfied: terminado>=0.8.3 in c:\\users\\admin\\new_anaconda\\lib\\site-packages (from notebook>=4.4.1->widgetsnbextension~=3.5.0->ipywidgets) (0.9.4)\n",
      "Requirement already satisfied: jinja2 in c:\\users\\admin\\new_anaconda\\lib\\site-packages (from notebook>=4.4.1->widgetsnbextension~=3.5.0->ipywidgets) (2.11.3)\n",
      "Requirement already satisfied: Send2Trash>=1.5.0 in c:\\users\\admin\\new_anaconda\\lib\\site-packages (from notebook>=4.4.1->widgetsnbextension~=3.5.0->ipywidgets) (1.5.0)\n",
      "Requirement already satisfied: argon2-cffi in c:\\users\\admin\\new_anaconda\\lib\\site-packages (from notebook>=4.4.1->widgetsnbextension~=3.5.0->ipywidgets) (20.1.0)\n",
      "Requirement already satisfied: python-dateutil>=2.1 in c:\\users\\admin\\new_anaconda\\lib\\site-packages (from jupyter-client->ipykernel>=4.5.1->ipywidgets) (2.8.1)\n",
      "Requirement already satisfied: pywin32>=1.0 in c:\\users\\admin\\new_anaconda\\lib\\site-packages (from jupyter-core->nbformat>=4.2.0->ipywidgets) (227)\n",
      "Requirement already satisfied: pywinpty>=0.5 in c:\\users\\admin\\new_anaconda\\lib\\site-packages (from terminado>=0.8.3->notebook>=4.4.1->widgetsnbextension~=3.5.0->ipywidgets) (0.5.7)\n",
      "Requirement already satisfied: cffi>=1.0.0 in c:\\users\\admin\\new_anaconda\\lib\\site-packages (from argon2-cffi->notebook>=4.4.1->widgetsnbextension~=3.5.0->ipywidgets) (1.14.5)\n",
      "Requirement already satisfied: pycparser in c:\\users\\admin\\new_anaconda\\lib\\site-packages (from cffi>=1.0.0->argon2-cffi->notebook>=4.4.1->widgetsnbextension~=3.5.0->ipywidgets) (2.20)\n",
      "Requirement already satisfied: MarkupSafe>=0.23 in c:\\users\\admin\\new_anaconda\\lib\\site-packages (from jinja2->notebook>=4.4.1->widgetsnbextension~=3.5.0->ipywidgets) (1.1.1)\n",
      "Requirement already satisfied: entrypoints>=0.2.2 in c:\\users\\admin\\new_anaconda\\lib\\site-packages (from nbconvert->notebook>=4.4.1->widgetsnbextension~=3.5.0->ipywidgets) (0.3)\n",
      "Requirement already satisfied: bleach in c:\\users\\admin\\new_anaconda\\lib\\site-packages (from nbconvert->notebook>=4.4.1->widgetsnbextension~=3.5.0->ipywidgets) (3.3.0)\n",
      "Requirement already satisfied: defusedxml in c:\\users\\admin\\new_anaconda\\lib\\site-packages (from nbconvert->notebook>=4.4.1->widgetsnbextension~=3.5.0->ipywidgets) (0.7.1)\n",
      "Requirement already satisfied: jupyterlab-pygments in c:\\users\\admin\\new_anaconda\\lib\\site-packages (from nbconvert->notebook>=4.4.1->widgetsnbextension~=3.5.0->ipywidgets) (0.1.2)\n",
      "Requirement already satisfied: mistune<2,>=0.8.1 in c:\\users\\admin\\new_anaconda\\lib\\site-packages (from nbconvert->notebook>=4.4.1->widgetsnbextension~=3.5.0->ipywidgets) (0.8.4)\n",
      "Requirement already satisfied: testpath in c:\\users\\admin\\new_anaconda\\lib\\site-packages (from nbconvert->notebook>=4.4.1->widgetsnbextension~=3.5.0->ipywidgets) (0.4.4)\n",
      "Requirement already satisfied: pandocfilters>=1.4.1 in c:\\users\\admin\\new_anaconda\\lib\\site-packages (from nbconvert->notebook>=4.4.1->widgetsnbextension~=3.5.0->ipywidgets) (1.4.3)\n",
      "Requirement already satisfied: nbclient<0.6.0,>=0.5.0 in c:\\users\\admin\\new_anaconda\\lib\\site-packages (from nbconvert->notebook>=4.4.1->widgetsnbextension~=3.5.0->ipywidgets) (0.5.3)\n",
      "Requirement already satisfied: nest-asyncio in c:\\users\\admin\\new_anaconda\\lib\\site-packages (from nbclient<0.6.0,>=0.5.0->nbconvert->notebook>=4.4.1->widgetsnbextension~=3.5.0->ipywidgets) (1.5.1)\n",
      "Requirement already satisfied: async-generator in c:\\users\\admin\\new_anaconda\\lib\\site-packages (from nbclient<0.6.0,>=0.5.0->nbconvert->notebook>=4.4.1->widgetsnbextension~=3.5.0->ipywidgets) (1.10)\n",
      "Requirement already satisfied: packaging in c:\\users\\admin\\new_anaconda\\lib\\site-packages (from bleach->nbconvert->notebook>=4.4.1->widgetsnbextension~=3.5.0->ipywidgets) (20.9)\n",
      "Requirement already satisfied: webencodings in c:\\users\\admin\\new_anaconda\\lib\\site-packages (from bleach->nbconvert->notebook>=4.4.1->widgetsnbextension~=3.5.0->ipywidgets) (0.5.1)\n",
      "Requirement already satisfied: pyparsing>=2.0.2 in c:\\users\\admin\\new_anaconda\\lib\\site-packages (from packaging->bleach->nbconvert->notebook>=4.4.1->widgetsnbextension~=3.5.0->ipywidgets) (2.4.7)\n",
      "Note: you may need to restart the kernel to use updated packages.\n"
     ]
    }
   ],
   "source": [
    "pip install ipywidgets"
   ]
  },
  {
   "cell_type": "code",
   "execution_count": 13,
   "id": "88d177d8",
   "metadata": {},
   "outputs": [
    {
     "name": "stdout",
     "output_type": "stream",
     "text": [
      "Requirement already satisfied: sklearn in c:\\users\\admin\\new_anaconda\\lib\\site-packages (0.0)\n",
      "Requirement already satisfied: scikit-learn in c:\\users\\admin\\new_anaconda\\lib\\site-packages (from sklearn) (0.24.1)\n",
      "Requirement already satisfied: threadpoolctl>=2.0.0 in c:\\users\\admin\\new_anaconda\\lib\\site-packages (from scikit-learn->sklearn) (2.1.0)\n",
      "Requirement already satisfied: scipy>=0.19.1 in c:\\users\\admin\\new_anaconda\\lib\\site-packages (from scikit-learn->sklearn) (1.6.2)\n",
      "Requirement already satisfied: numpy>=1.13.3 in c:\\users\\admin\\new_anaconda\\lib\\site-packages (from scikit-learn->sklearn) (1.20.1)\n",
      "Requirement already satisfied: joblib>=0.11 in c:\\users\\admin\\new_anaconda\\lib\\site-packages (from scikit-learn->sklearn) (1.0.1)\n",
      "Note: you may need to restart the kernel to use updated packages.\n"
     ]
    }
   ],
   "source": [
    "pip install sklearn"
   ]
  },
  {
   "cell_type": "code",
   "execution_count": 14,
   "id": "365e1b7f",
   "metadata": {},
   "outputs": [],
   "source": [
    "#NOW ALL THE REQUIRED LIBRARIES ARE NOW GOT INSTALLED....NOW FOR USING THOSE INSTALLED LIBRARIES...WE HAVE TO IMPORT THEM..\n",
    "# BECAUSE WITHOUT IMPORTING THE LIBRARIES WE CANNOT USE THEM."
   ]
  },
  {
   "cell_type": "markdown",
   "id": "7da71717",
   "metadata": {},
   "source": [
    "# IMPORTING LIBRARIES"
   ]
  },
  {
   "cell_type": "code",
   "execution_count": 15,
   "id": "2e8917bf",
   "metadata": {},
   "outputs": [],
   "source": [
    "#for manipulations\n",
    "import numpy as np\n",
    "import pandas as pd\n",
    "\n",
    "#for data visualizations\n",
    "import matplotlib.pyplot as plt\n",
    "import seaborn as sns\n",
    "\n",
    "\n",
    "#for interactivity\n",
    "from ipywidgets import interact"
   ]
  },
  {
   "cell_type": "code",
   "execution_count": 16,
   "id": "1df2a484",
   "metadata": {},
   "outputs": [],
   "source": [
    "#Lets read the dataset\n",
    "data=pd.read_csv('data.csv')        #csv: comma seperated value......pd.read_csv()\n",
    "                                    #json: pd.read_json()\n",
    "                                    #xlm : pd.read_xlm()...........etc. pandas helps to read every kind of datasets."
   ]
  },
  {
   "cell_type": "code",
   "execution_count": 17,
   "id": "e7e5d8c0",
   "metadata": {},
   "outputs": [
    {
     "name": "stdout",
     "output_type": "stream",
     "text": [
      "Shape of the Dataset:  (2200, 8)\n"
     ]
    }
   ],
   "source": [
    "#Lets check the shape of the dataset.\n",
    "print(\"Shape of the Dataset: \" ,data.shape)   #This means 2200 rows and 8 columns...in our dataset."
   ]
  },
  {
   "cell_type": "code",
   "execution_count": 18,
   "id": "ae81be76",
   "metadata": {},
   "outputs": [
    {
     "data": {
      "text/html": [
       "<div>\n",
       "<style scoped>\n",
       "    .dataframe tbody tr th:only-of-type {\n",
       "        vertical-align: middle;\n",
       "    }\n",
       "\n",
       "    .dataframe tbody tr th {\n",
       "        vertical-align: top;\n",
       "    }\n",
       "\n",
       "    .dataframe thead th {\n",
       "        text-align: right;\n",
       "    }\n",
       "</style>\n",
       "<table border=\"1\" class=\"dataframe\">\n",
       "  <thead>\n",
       "    <tr style=\"text-align: right;\">\n",
       "      <th></th>\n",
       "      <th>N</th>\n",
       "      <th>P</th>\n",
       "      <th>K</th>\n",
       "      <th>temperature</th>\n",
       "      <th>humidity</th>\n",
       "      <th>ph</th>\n",
       "      <th>rainfall</th>\n",
       "      <th>label</th>\n",
       "    </tr>\n",
       "  </thead>\n",
       "  <tbody>\n",
       "    <tr>\n",
       "      <th>0</th>\n",
       "      <td>90</td>\n",
       "      <td>42</td>\n",
       "      <td>43</td>\n",
       "      <td>20.879744</td>\n",
       "      <td>82.002744</td>\n",
       "      <td>6.502985</td>\n",
       "      <td>202.935536</td>\n",
       "      <td>rice</td>\n",
       "    </tr>\n",
       "    <tr>\n",
       "      <th>1</th>\n",
       "      <td>85</td>\n",
       "      <td>58</td>\n",
       "      <td>41</td>\n",
       "      <td>21.770462</td>\n",
       "      <td>80.319644</td>\n",
       "      <td>7.038096</td>\n",
       "      <td>226.655537</td>\n",
       "      <td>rice</td>\n",
       "    </tr>\n",
       "    <tr>\n",
       "      <th>2</th>\n",
       "      <td>60</td>\n",
       "      <td>55</td>\n",
       "      <td>44</td>\n",
       "      <td>23.004459</td>\n",
       "      <td>82.320763</td>\n",
       "      <td>7.840207</td>\n",
       "      <td>263.964248</td>\n",
       "      <td>rice</td>\n",
       "    </tr>\n",
       "    <tr>\n",
       "      <th>3</th>\n",
       "      <td>74</td>\n",
       "      <td>35</td>\n",
       "      <td>40</td>\n",
       "      <td>26.491096</td>\n",
       "      <td>80.158363</td>\n",
       "      <td>6.980401</td>\n",
       "      <td>242.864034</td>\n",
       "      <td>rice</td>\n",
       "    </tr>\n",
       "    <tr>\n",
       "      <th>4</th>\n",
       "      <td>78</td>\n",
       "      <td>42</td>\n",
       "      <td>42</td>\n",
       "      <td>20.130175</td>\n",
       "      <td>81.604873</td>\n",
       "      <td>7.628473</td>\n",
       "      <td>262.717340</td>\n",
       "      <td>rice</td>\n",
       "    </tr>\n",
       "  </tbody>\n",
       "</table>\n",
       "</div>"
      ],
      "text/plain": [
       "    N   P   K  temperature   humidity        ph    rainfall label\n",
       "0  90  42  43    20.879744  82.002744  6.502985  202.935536  rice\n",
       "1  85  58  41    21.770462  80.319644  7.038096  226.655537  rice\n",
       "2  60  55  44    23.004459  82.320763  7.840207  263.964248  rice\n",
       "3  74  35  40    26.491096  80.158363  6.980401  242.864034  rice\n",
       "4  78  42  42    20.130175  81.604873  7.628473  262.717340  rice"
      ]
     },
     "execution_count": 18,
     "metadata": {},
     "output_type": "execute_result"
    }
   ],
   "source": [
    "#Lets check the head of the dataset....ie.it will show us first five entries of the dataset.\n",
    "data.head()"
   ]
  },
  {
   "cell_type": "code",
   "execution_count": 19,
   "id": "a17063c9",
   "metadata": {},
   "outputs": [
    {
     "data": {
      "text/html": [
       "<div>\n",
       "<style scoped>\n",
       "    .dataframe tbody tr th:only-of-type {\n",
       "        vertical-align: middle;\n",
       "    }\n",
       "\n",
       "    .dataframe tbody tr th {\n",
       "        vertical-align: top;\n",
       "    }\n",
       "\n",
       "    .dataframe thead th {\n",
       "        text-align: right;\n",
       "    }\n",
       "</style>\n",
       "<table border=\"1\" class=\"dataframe\">\n",
       "  <thead>\n",
       "    <tr style=\"text-align: right;\">\n",
       "      <th></th>\n",
       "      <th>N</th>\n",
       "      <th>P</th>\n",
       "      <th>K</th>\n",
       "      <th>temperature</th>\n",
       "      <th>humidity</th>\n",
       "      <th>ph</th>\n",
       "      <th>rainfall</th>\n",
       "      <th>label</th>\n",
       "    </tr>\n",
       "  </thead>\n",
       "  <tbody>\n",
       "    <tr>\n",
       "      <th>2195</th>\n",
       "      <td>107</td>\n",
       "      <td>34</td>\n",
       "      <td>32</td>\n",
       "      <td>26.774637</td>\n",
       "      <td>66.413269</td>\n",
       "      <td>6.780064</td>\n",
       "      <td>177.774507</td>\n",
       "      <td>coffee</td>\n",
       "    </tr>\n",
       "    <tr>\n",
       "      <th>2196</th>\n",
       "      <td>99</td>\n",
       "      <td>15</td>\n",
       "      <td>27</td>\n",
       "      <td>27.417112</td>\n",
       "      <td>56.636362</td>\n",
       "      <td>6.086922</td>\n",
       "      <td>127.924610</td>\n",
       "      <td>coffee</td>\n",
       "    </tr>\n",
       "    <tr>\n",
       "      <th>2197</th>\n",
       "      <td>118</td>\n",
       "      <td>33</td>\n",
       "      <td>30</td>\n",
       "      <td>24.131797</td>\n",
       "      <td>67.225123</td>\n",
       "      <td>6.362608</td>\n",
       "      <td>173.322839</td>\n",
       "      <td>coffee</td>\n",
       "    </tr>\n",
       "    <tr>\n",
       "      <th>2198</th>\n",
       "      <td>117</td>\n",
       "      <td>32</td>\n",
       "      <td>34</td>\n",
       "      <td>26.272418</td>\n",
       "      <td>52.127394</td>\n",
       "      <td>6.758793</td>\n",
       "      <td>127.175293</td>\n",
       "      <td>coffee</td>\n",
       "    </tr>\n",
       "    <tr>\n",
       "      <th>2199</th>\n",
       "      <td>104</td>\n",
       "      <td>18</td>\n",
       "      <td>30</td>\n",
       "      <td>23.603016</td>\n",
       "      <td>60.396475</td>\n",
       "      <td>6.779833</td>\n",
       "      <td>140.937041</td>\n",
       "      <td>coffee</td>\n",
       "    </tr>\n",
       "  </tbody>\n",
       "</table>\n",
       "</div>"
      ],
      "text/plain": [
       "        N   P   K  temperature   humidity        ph    rainfall   label\n",
       "2195  107  34  32    26.774637  66.413269  6.780064  177.774507  coffee\n",
       "2196   99  15  27    27.417112  56.636362  6.086922  127.924610  coffee\n",
       "2197  118  33  30    24.131797  67.225123  6.362608  173.322839  coffee\n",
       "2198  117  32  34    26.272418  52.127394  6.758793  127.175293  coffee\n",
       "2199  104  18  30    23.603016  60.396475  6.779833  140.937041  coffee"
      ]
     },
     "execution_count": 19,
     "metadata": {},
     "output_type": "execute_result"
    }
   ],
   "source": [
    "#Lets check the tail of the dataset....ie.it will show us last five entries of the dataset.\n",
    "data.tail()"
   ]
  },
  {
   "cell_type": "code",
   "execution_count": 20,
   "id": "a0bba869",
   "metadata": {},
   "outputs": [],
   "source": [
    "#Now lets make sure that do we have any missing value in this dataset....this is an important task to do..because no machine \n",
    "#learning model can work with missing values."
   ]
  },
  {
   "cell_type": "code",
   "execution_count": 21,
   "id": "a0a58651",
   "metadata": {},
   "outputs": [],
   "source": [
    "#QUES: HOW DO WE DETECT IF A DATASET,HAVE MISSING OR IN OTHER WORDS NULL VALUES.....\n",
    "\n",
    "#ans: So in Python we have a function isnull(), which gonna help us to find the number of missing values in each \n",
    "#column of our dataset."
   ]
  },
  {
   "cell_type": "code",
   "execution_count": 22,
   "id": "92b71152",
   "metadata": {},
   "outputs": [
    {
     "data": {
      "text/html": [
       "<div>\n",
       "<style scoped>\n",
       "    .dataframe tbody tr th:only-of-type {\n",
       "        vertical-align: middle;\n",
       "    }\n",
       "\n",
       "    .dataframe tbody tr th {\n",
       "        vertical-align: top;\n",
       "    }\n",
       "\n",
       "    .dataframe thead th {\n",
       "        text-align: right;\n",
       "    }\n",
       "</style>\n",
       "<table border=\"1\" class=\"dataframe\">\n",
       "  <thead>\n",
       "    <tr style=\"text-align: right;\">\n",
       "      <th></th>\n",
       "      <th>N</th>\n",
       "      <th>P</th>\n",
       "      <th>K</th>\n",
       "      <th>temperature</th>\n",
       "      <th>humidity</th>\n",
       "      <th>ph</th>\n",
       "      <th>rainfall</th>\n",
       "      <th>label</th>\n",
       "    </tr>\n",
       "  </thead>\n",
       "  <tbody>\n",
       "    <tr>\n",
       "      <th>0</th>\n",
       "      <td>False</td>\n",
       "      <td>False</td>\n",
       "      <td>False</td>\n",
       "      <td>False</td>\n",
       "      <td>False</td>\n",
       "      <td>False</td>\n",
       "      <td>False</td>\n",
       "      <td>False</td>\n",
       "    </tr>\n",
       "    <tr>\n",
       "      <th>1</th>\n",
       "      <td>False</td>\n",
       "      <td>False</td>\n",
       "      <td>False</td>\n",
       "      <td>False</td>\n",
       "      <td>False</td>\n",
       "      <td>False</td>\n",
       "      <td>False</td>\n",
       "      <td>False</td>\n",
       "    </tr>\n",
       "    <tr>\n",
       "      <th>2</th>\n",
       "      <td>False</td>\n",
       "      <td>False</td>\n",
       "      <td>False</td>\n",
       "      <td>False</td>\n",
       "      <td>False</td>\n",
       "      <td>False</td>\n",
       "      <td>False</td>\n",
       "      <td>False</td>\n",
       "    </tr>\n",
       "    <tr>\n",
       "      <th>3</th>\n",
       "      <td>False</td>\n",
       "      <td>False</td>\n",
       "      <td>False</td>\n",
       "      <td>False</td>\n",
       "      <td>False</td>\n",
       "      <td>False</td>\n",
       "      <td>False</td>\n",
       "      <td>False</td>\n",
       "    </tr>\n",
       "    <tr>\n",
       "      <th>4</th>\n",
       "      <td>False</td>\n",
       "      <td>False</td>\n",
       "      <td>False</td>\n",
       "      <td>False</td>\n",
       "      <td>False</td>\n",
       "      <td>False</td>\n",
       "      <td>False</td>\n",
       "      <td>False</td>\n",
       "    </tr>\n",
       "    <tr>\n",
       "      <th>...</th>\n",
       "      <td>...</td>\n",
       "      <td>...</td>\n",
       "      <td>...</td>\n",
       "      <td>...</td>\n",
       "      <td>...</td>\n",
       "      <td>...</td>\n",
       "      <td>...</td>\n",
       "      <td>...</td>\n",
       "    </tr>\n",
       "    <tr>\n",
       "      <th>2195</th>\n",
       "      <td>False</td>\n",
       "      <td>False</td>\n",
       "      <td>False</td>\n",
       "      <td>False</td>\n",
       "      <td>False</td>\n",
       "      <td>False</td>\n",
       "      <td>False</td>\n",
       "      <td>False</td>\n",
       "    </tr>\n",
       "    <tr>\n",
       "      <th>2196</th>\n",
       "      <td>False</td>\n",
       "      <td>False</td>\n",
       "      <td>False</td>\n",
       "      <td>False</td>\n",
       "      <td>False</td>\n",
       "      <td>False</td>\n",
       "      <td>False</td>\n",
       "      <td>False</td>\n",
       "    </tr>\n",
       "    <tr>\n",
       "      <th>2197</th>\n",
       "      <td>False</td>\n",
       "      <td>False</td>\n",
       "      <td>False</td>\n",
       "      <td>False</td>\n",
       "      <td>False</td>\n",
       "      <td>False</td>\n",
       "      <td>False</td>\n",
       "      <td>False</td>\n",
       "    </tr>\n",
       "    <tr>\n",
       "      <th>2198</th>\n",
       "      <td>False</td>\n",
       "      <td>False</td>\n",
       "      <td>False</td>\n",
       "      <td>False</td>\n",
       "      <td>False</td>\n",
       "      <td>False</td>\n",
       "      <td>False</td>\n",
       "      <td>False</td>\n",
       "    </tr>\n",
       "    <tr>\n",
       "      <th>2199</th>\n",
       "      <td>False</td>\n",
       "      <td>False</td>\n",
       "      <td>False</td>\n",
       "      <td>False</td>\n",
       "      <td>False</td>\n",
       "      <td>False</td>\n",
       "      <td>False</td>\n",
       "      <td>False</td>\n",
       "    </tr>\n",
       "  </tbody>\n",
       "</table>\n",
       "<p>2200 rows × 8 columns</p>\n",
       "</div>"
      ],
      "text/plain": [
       "          N      P      K  temperature  humidity     ph  rainfall  label\n",
       "0     False  False  False        False     False  False     False  False\n",
       "1     False  False  False        False     False  False     False  False\n",
       "2     False  False  False        False     False  False     False  False\n",
       "3     False  False  False        False     False  False     False  False\n",
       "4     False  False  False        False     False  False     False  False\n",
       "...     ...    ...    ...          ...       ...    ...       ...    ...\n",
       "2195  False  False  False        False     False  False     False  False\n",
       "2196  False  False  False        False     False  False     False  False\n",
       "2197  False  False  False        False     False  False     False  False\n",
       "2198  False  False  False        False     False  False     False  False\n",
       "2199  False  False  False        False     False  False     False  False\n",
       "\n",
       "[2200 rows x 8 columns]"
      ]
     },
     "execution_count": 22,
     "metadata": {},
     "output_type": "execute_result"
    }
   ],
   "source": [
    "#Lets check if there is any missing value present in the dataset.\n",
    "data.isnull()          #This False indicates that they are not missing values or not null areas...."
   ]
  },
  {
   "cell_type": "code",
   "execution_count": 23,
   "id": "5fbb352f",
   "metadata": {},
   "outputs": [
    {
     "data": {
      "text/plain": [
       "N              0\n",
       "P              0\n",
       "K              0\n",
       "temperature    0\n",
       "humidity       0\n",
       "ph             0\n",
       "rainfall       0\n",
       "label          0\n",
       "dtype: int64"
      ]
     },
     "execution_count": 23,
     "metadata": {},
     "output_type": "execute_result"
    }
   ],
   "source": [
    "#Lets count all the null values in total for each column....so sum the number of null cell in each column.\n",
    "data.isnull().sum()"
   ]
  },
  {
   "cell_type": "code",
   "execution_count": 24,
   "id": "39e23dd3",
   "metadata": {},
   "outputs": [],
   "source": [
    "# This gives us an insight that there is no missing value present in this dataset,in any of the column."
   ]
  },
  {
   "cell_type": "code",
   "execution_count": 25,
   "id": "d5da6eca",
   "metadata": {},
   "outputs": [],
   "source": [
    "#But in most of the cases, we gonna face so many null values ..and we have to make is filled values...\n",
    "#so that we can work with ML model properly."
   ]
  },
  {
   "cell_type": "code",
   "execution_count": 26,
   "id": "b69c4ffa",
   "metadata": {},
   "outputs": [],
   "source": [
    "#So in those cases what we gonna do is  :  use     fillna() function\n",
    "#NA means Not Available.\n",
    "#Pandas have functions like fill-NA to treat missing values.\n",
    "#so many replacement we have: '0','mean value','median value','mode value'...as per the condition.\n",
    "\n",
    "#NOW THE QUESTION IS:\n",
    "#QUES:HOW TO DECIDE THAT WHEN TO USE MEAN or MEDIAN or MODE...IN PLACE OF MISSING VALUES.\n",
    "\n",
    "#1. WHENEVER YOU CAME ACROSS ANY NUMERICAL COLUMN IN YOUR DATASET, THEN IN THAT CASE...FOR REPLACING THE MISSING VALUE\n",
    "#   WE WILL USE MEAN VALUES.\n",
    "#        eg.     data.fillna(data.mean())    or    df.fillna(df.mean())\n",
    "\n",
    "\n",
    "#2. WHENEVER YOU CAME ACROSS CATEGORICAL VALUES IN YOUR DATASET, THEN IN THAT CASE...FOR REPLACING THE MISSING VALUE\n",
    "#   WE WILL USE MODE VALUES.\n",
    "#        eg.     data.fillna(data.mode())    or    df.fillna(df.mode())\n",
    "\n",
    "\n",
    "#3. WHENEVER YOU CAME ACROSS SO MANY OUTLIERS IN YOUR DATASET, THEN IN THAT CASE...FOR REPLACING THE MISSING VALUE\n",
    "#   WE WILL USE MEDIAN VALUES.\n",
    "#        eg.     data.fillna(data.median())    or    df.fillna(df.median())\n"
   ]
  },
  {
   "cell_type": "code",
   "execution_count": 27,
   "id": "685bc7c6",
   "metadata": {},
   "outputs": [],
   "source": [
    "#Now...as we donot have any missing values,lets look at the variety of crops we have."
   ]
  },
  {
   "cell_type": "code",
   "execution_count": 28,
   "id": "c51826fd",
   "metadata": {},
   "outputs": [],
   "source": [
    "# unique()        : is a function shows all the unique kind of elements...here crops.\n",
    "# value_counts()  : is a function which shows total count and records of each (unique) kind of crop."
   ]
  },
  {
   "cell_type": "code",
   "execution_count": 29,
   "id": "f974813e",
   "metadata": {},
   "outputs": [
    {
     "data": {
      "text/plain": [
       "array(['rice', 'maize', 'chickpea', 'kidneybeans', 'pigeonpeas',\n",
       "       'mothbeans', 'mungbean', 'blackgram', 'lentil', 'pomegranate',\n",
       "       'banana', 'mango', 'grapes', 'watermelon', 'muskmelon', 'apple',\n",
       "       'orange', 'papaya', 'coconut', 'cotton', 'jute', 'coffee'],\n",
       "      dtype=object)"
      ]
     },
     "execution_count": 29,
     "metadata": {},
     "output_type": "execute_result"
    }
   ],
   "source": [
    "#Lets check the Crops present in this Dataset.\n",
    "\n",
    "data['label'].unique()       \n",
    "                              "
   ]
  },
  {
   "cell_type": "code",
   "execution_count": 30,
   "id": "026701f7",
   "metadata": {},
   "outputs": [
    {
     "data": {
      "text/plain": [
       "watermelon     100\n",
       "kidneybeans    100\n",
       "mothbeans      100\n",
       "muskmelon      100\n",
       "mango          100\n",
       "chickpea       100\n",
       "orange         100\n",
       "pigeonpeas     100\n",
       "grapes         100\n",
       "papaya         100\n",
       "rice           100\n",
       "jute           100\n",
       "banana         100\n",
       "lentil         100\n",
       "cotton         100\n",
       "coconut        100\n",
       "maize          100\n",
       "apple          100\n",
       "pomegranate    100\n",
       "blackgram      100\n",
       "mungbean       100\n",
       "coffee         100\n",
       "Name: label, dtype: int64"
      ]
     },
     "execution_count": 30,
     "metadata": {},
     "output_type": "execute_result"
    }
   ],
   "source": [
    "data['label'].value_counts()"
   ]
  },
  {
   "cell_type": "code",
   "execution_count": 31,
   "id": "9ba4b007",
   "metadata": {},
   "outputs": [
    {
     "name": "stdout",
     "output_type": "stream",
     "text": [
      "Average Ratio of Nitrogen in the Soil: 50.55\n",
      "Average Ratio of Phosphorous in the Soil: 53.36\n",
      "Average Ratio of Potassium in the Soil: 48.15\n",
      "Average Temperature in Celsius in the Soil: 25.62\n",
      "Average Relative Humidity in the Soil: 71.48\n",
      "Average pH value of the Soil: 6.47\n",
      "Average Rainfall in mm : 103.46\n"
     ]
    }
   ],
   "source": [
    "#Lets check the summary for all the crops. \n",
    "# Here we , used format method and this'2f'denotes the value we displayed upto 2 decimal place...3f ->3 decimal place..so on.\n",
    "\n",
    "\n",
    "print(\"Average Ratio of Nitrogen in the Soil:{0: .2f}\".format(data['N'].mean()))\n",
    "print(\"Average Ratio of Phosphorous in the Soil:{0: .2f}\".format(data['P'].mean()))\n",
    "print(\"Average Ratio of Potassium in the Soil:{0: .2f}\".format(data['K'].mean()))\n",
    "print(\"Average Temperature in Celsius in the Soil:{0: .2f}\".format(data['temperature'].mean()))\n",
    "print(\"Average Relative Humidity in the Soil:{0: .2f}\".format(data['humidity'].mean()))\n",
    "print(\"Average pH value of the Soil:{0: .2f}\".format(data['ph'].mean()))\n",
    "print(\"Average Rainfall in mm :{0: .2f}\".format(data['rainfall'].mean()))"
   ]
  },
  {
   "cell_type": "code",
   "execution_count": 32,
   "id": "0f6b26d0",
   "metadata": {},
   "outputs": [],
   "source": [
    "#THIS ABOVE SUMMARY TELLS US THAT, \n",
    "#1.THE DISTRIBUTION OF NITROGEN 'N', POTASSIUM 'K' AND PHOSPHORUS 'P' SHOULD BE APPROX 50%.\n",
    "#2.ON AN AVERAGE, WE NEED 25 DEGREE CELSIUS OF TEMPERATURE.\n",
    "#3.ON AN AVERAGE, HUMIDITY IS NEED ABOUT 71%.\n",
    "#4.pH VALUE SHOULD BE AROUND 6.5 TO 7.\n",
    "#5.AND THE RAINFALL SHOULD BE AROUND 100 mm."
   ]
  },
  {
   "cell_type": "code",
   "execution_count": 33,
   "id": "b0698d42",
   "metadata": {},
   "outputs": [],
   "source": [
    "#NOW....WE ALSO SHOULD LOOK INTO EACH CROP'S MAXIMUM AND MINIMUM SOIL REQUIREMENTS AND CLIMATIC CONDITIONS."
   ]
  },
  {
   "cell_type": "code",
   "execution_count": 34,
   "id": "d076f2e2",
   "metadata": {},
   "outputs": [],
   "source": [
    "#SO NOW WE GONNA MAKE AN INTERACTIVE FUNCTION WHICH IS USED TO PRESENT THE CLIMATIC CONDITION AND SOIL REQUIREMENT FOR\n",
    "#EACH CROP..........THAT INTERAVTIVE FUNCTION WE GONNA CREATE USING..ipywidgets library."
   ]
  },
  {
   "cell_type": "code",
   "execution_count": 35,
   "id": "a0b4eafb",
   "metadata": {},
   "outputs": [
    {
     "data": {
      "text/plain": [
       "['watermelon',\n",
       " 'kidneybeans',\n",
       " 'mothbeans',\n",
       " 'muskmelon',\n",
       " 'mango',\n",
       " 'chickpea',\n",
       " 'orange',\n",
       " 'pigeonpeas',\n",
       " 'grapes',\n",
       " 'papaya',\n",
       " 'rice',\n",
       " 'jute',\n",
       " 'banana',\n",
       " 'lentil',\n",
       " 'cotton',\n",
       " 'coconut',\n",
       " 'maize',\n",
       " 'apple',\n",
       " 'pomegranate',\n",
       " 'blackgram',\n",
       " 'mungbean',\n",
       " 'coffee']"
      ]
     },
     "execution_count": 35,
     "metadata": {},
     "output_type": "execute_result"
    }
   ],
   "source": [
    "crops=list(data['label'].value_counts().index)\n",
    "crops"
   ]
  },
  {
   "cell_type": "code",
   "execution_count": 36,
   "id": "2918f7b6",
   "metadata": {},
   "outputs": [
    {
     "data": {
      "application/vnd.jupyter.widget-view+json": {
       "model_id": "79ac2a9fc3ed464b8d91f5d053232d1f",
       "version_major": 2,
       "version_minor": 0
      },
      "text/plain": [
       "interactive(children=(Dropdown(description='crops', options=('watermelon', 'kidneybeans', 'mothbeans', 'muskme…"
      ]
     },
     "metadata": {},
     "output_type": "display_data"
    }
   ],
   "source": [
    "#Lets check the Summary Statistics for each of the crops.\n",
    "\n",
    "@interact     #magic keyword..because of this keyword...below function will become interactive...and that dropdown.\n",
    "\n",
    "def summary(crops=list(data['label'].value_counts().index)):\n",
    "    x=data[data['label']==crops]"
   ]
  },
  {
   "cell_type": "code",
   "execution_count": 37,
   "id": "67c79e0c",
   "metadata": {},
   "outputs": [
    {
     "data": {
      "application/vnd.jupyter.widget-view+json": {
       "model_id": "b85e0555774645fc8a01d539d25a2f82",
       "version_major": 2,
       "version_minor": 0
      },
      "text/plain": [
       "interactive(children=(Dropdown(description='crops', options=('watermelon', 'kidneybeans', 'mothbeans', 'muskme…"
      ]
     },
     "metadata": {},
     "output_type": "display_data"
    }
   ],
   "source": [
    "# AGIAN....COMAPRING ALL TOGETHER....\n",
    "#Lets check the Summary Statistics for each of the crops.\n",
    "\n",
    "@interact     #magic keyword..because of this keyword...below function will become interactive...and that dropdown.\n",
    "\n",
    "def summary(crops=list(data['label'].value_counts().index)):\n",
    "    x=data[data['label']==crops]\n",
    "    print(\"-------------------------------------------------------------------\")\n",
    "    print(\"Statistics of Nitrogen: \")\n",
    "    print(\"Minimum Nitrogen required: \",x['N'].min())\n",
    "    print(\"Average Nitrogen required: \",x['N'].mean())\n",
    "    print(\"Maximum Nitrogen required: \",x['N'].max())\n",
    "    print(\"-------------------------------------------------------------------\")\n",
    "    print(\"Statistics of Phosphorous: \")\n",
    "    print(\"Minimum Phosphorous required: \",x['P'].min())\n",
    "    print(\"Average Phosphorous required: \",x['P'].mean())\n",
    "    print(\"Maximum Phosphorous required: \",x['P'].max())\n",
    "    print(\"-------------------------------------------------------------------\")\n",
    "    print(\"Statistics of Potassium: \")\n",
    "    print(\"Minimum Potassium required: \",x['K'].min())\n",
    "    print(\"Average Potassium required: \",x['K'].mean())\n",
    "    print(\"Maximum Potassium required: \",x['K'].max())\n",
    "    print(\"-------------------------------------------------------------------\")\n",
    "    print(\"Statistics for Temperature: \")\n",
    "    print(\"Minimum temperature in degree celsius required:{0: .2f} \".format(x['temperature'].min()))\n",
    "    print(\"Average temperature in degree celsius required:{0: .2f} \".format(x['temperature'].mean()))\n",
    "    print(\"Maximum temperature in degree celsius required:{0: .2f} \".format(x['temperature'].max()))\n",
    "    print(\"-------------------------------------------------------------------\")\n",
    "    print(\"Statistics for Humidity: \")\n",
    "    print(\"Minimum Humidity required:{0: .2f} \".format(x['humidity'].min()))\n",
    "    print(\"Average Humidity required:{0: .2f} \".format(x['humidity'].mean()))\n",
    "    print(\"Maximum Humidity required:{0: .2f} \".format(x['humidity'].max()))\n",
    "    print(\"-------------------------------------------------------------------\")\n",
    "    print(\"Statistics for pH: \")\n",
    "    print(\"Minimum pH of soil required:{0: .2f} \".format(x['ph'].min()))\n",
    "    print(\"Average pH of soil required:{0: .2f} \".format(x['ph'].mean()))\n",
    "    print(\"Maximum pH of soil required:{0: .2f} \".format(x['ph'].max()))\n",
    "    print(\"-------------------------------------------------------------------\")\n",
    "    print(\"Statistics for Rainfall: \")\n",
    "    print(\"Minimum Rainfall in mm required:{0: .2f} \".format(x['rainfall'].min()))\n",
    "    print(\"Average Rainfall in mm  required:{0: .2f} \".format(x['rainfall'].mean()))\n",
    "    print(\"Maximum Rainfall in mm  required:{0: .2f} \".format(x['rainfall'].max()))"
   ]
  },
  {
   "cell_type": "code",
   "execution_count": 38,
   "id": "e31615bc",
   "metadata": {},
   "outputs": [],
   "source": [
    "#NOW , CAN WE MAKE A FUNCTION ,WHICH CAN COMPARE ALL THE CROPS AT A TIME?....ANSWER IS YES...AS FOLLOWS WE CAN DO THAT..."
   ]
  },
  {
   "cell_type": "code",
   "execution_count": 39,
   "id": "62fbcec2",
   "metadata": {},
   "outputs": [
    {
     "data": {
      "application/vnd.jupyter.widget-view+json": {
       "model_id": "839e068de1ca469e9564b7a9143fdd77",
       "version_major": 2,
       "version_minor": 0
      },
      "text/plain": [
       "interactive(children=(Dropdown(description='conditions', options=('N', 'P', 'K', 'temperature', 'ph', 'humidit…"
      ]
     },
     "metadata": {},
     "output_type": "display_data"
    }
   ],
   "source": [
    "#lets comapre the Average Requirement for each crops with average conditons.\n",
    "\n",
    "\n",
    "@interact\n",
    "def compare(conditions=['N','P','K','temperature','ph','humidity','rainfall']):\n",
    "    print(\"Average Value for\", conditions,\"is {0: .2f}\".format(data[conditions].mean()))\n",
    "    print(\"----------------------------------------------------------------------------\")\n",
    "    print(\"Rice : {0: .2f}\".format(data[(data['label']=='rice')][conditions].mean()))\n",
    "    print(\"Black Gram : {0: .2f}\".format(data[(data['label']=='blackgram')][conditions].mean()))\n",
    "    print(\"Banana : {0: .2f}\".format(data[(data['label']=='banana')][conditions].mean()))\n",
    "    print(\"Jute : {0: .2f}\".format(data[(data['label']=='jute')][conditions].mean()))\n",
    "    print(\"Coconut : {0: .2f}\".format(data[(data['label']=='coconut')][conditions].mean()))\n",
    "    print(\"Apple : {0: .2f}\".format(data[(data['label']=='apple')][conditions].mean()))\n",
    "    print(\"Papaya : {0: .2f}\".format(data[(data['label']=='papaya')][conditions].mean()))\n",
    "    print(\"Muskmelon : {0: .2f}\".format(data[(data['label']=='muskmelon')][conditions].mean()))\n",
    "    print(\"Grapes : {0: .2f}\".format(data[(data['label']=='grapes')][conditions].mean()))\n",
    "    print(\"Watermelon : {0: .2f}\".format(data[(data['label']=='watermelon')][conditions].mean()))\n",
    "    print(\"Kidney Beans : {0: .2f}\".format(data[(data['label']=='kidneybeans')][conditions].mean()))\n",
    "    print(\"Mung Beans : {0: .2f}\".format(data[(data['label']=='mungbean')][conditions].mean()))\n",
    "    print(\"Oranges : {0: .2f}\".format(data[(data['label']=='orange')][conditions].mean()))\n",
    "    print(\"Chick Peas : {0: .2f}\".format(data[(data['label']=='chickpea')][conditions].mean()))\n",
    "    print(\"Lentils : {0: .2f}\".format(data[(data['label']=='lentil')][conditions].mean()))\n",
    "    print(\"Cotton : {0: .2f}\".format(data[(data['label']=='cotton')][conditions].mean()))\n",
    "    print(\"Maize : {0: .2f}\".format(data[(data['label']=='maize')][conditions].mean()))\n",
    "    print(\"Moth Beans: {0: .2f}\".format(data[(data['label']=='mothbeans')][conditions].mean()))\n",
    "    print(\"Pomegranate : {0: .2f}\".format(data[(data['label']=='pomegranate')][conditions].mean()))\n",
    "    print(\"Coffee : {0: .2f}\".format(data[(data['label']=='coffee')][conditions].mean()))\n"
   ]
  },
  {
   "cell_type": "code",
   "execution_count": 40,
   "id": "c0d71f33",
   "metadata": {},
   "outputs": [],
   "source": [
    "#FROM ABOVE WE CAN SEE THAT SOME PLANTS/CROPS NEED MORE TEMP WHILE SOME NEED LESS.\n",
    "#ON THE BASIS OF THAT WE CAN CATEGORISE THEM ON THE BASIS OF SUMMER/WINTER..OR SEASONAL CROPS.\n",
    "#FOR THAT WE ARE NOW MAKING A FUNCTION TO DIVIDE/CATEGORISE SAME KIND OF CROP ONE SIDE AND REMAINING SAME TO THE OTHER SIDE."
   ]
  },
  {
   "cell_type": "code",
   "execution_count": 41,
   "id": "833ed0f2",
   "metadata": {},
   "outputs": [],
   "source": [
    "#WE GONNA CATEGORISE THE CROPS ON THE BASIS OF , SOIL REQUIREMENT AND CONDITION NEEDED , ABOVE AVERAGE OR BELOW AVERAGE."
   ]
  },
  {
   "cell_type": "code",
   "execution_count": 42,
   "id": "8de6645b",
   "metadata": {},
   "outputs": [
    {
     "data": {
      "application/vnd.jupyter.widget-view+json": {
       "model_id": "d4097144b31644adbed474cba8088324",
       "version_major": 2,
       "version_minor": 0
      },
      "text/plain": [
       "interactive(children=(Dropdown(description='conditions', options=('N', 'P', 'K', 'temperature', 'ph', 'humidit…"
      ]
     },
     "metadata": {},
     "output_type": "display_data"
    }
   ],
   "source": [
    "#lets make this function more intutive.\n",
    "\n",
    "@interact\n",
    "def comapre(conditions=['N','P','K','temperature','ph','humidity','rainfall']):\n",
    "    print(\"Crops which require greater than average\", conditions,'\\n')\n",
    "    print(data[data[conditions] > data[conditions].mean()]['label'].unique())\n",
    "    print(\"---------------------------------------------------------------------------\")\n",
    "    print(\"Crops which requrire less than average\",conditions,'\\n')\n",
    "    print(data[data[conditions] <= data[conditions].mean()]['label'].unique())"
   ]
  },
  {
   "cell_type": "code",
   "execution_count": 43,
   "id": "d88cf03c",
   "metadata": {},
   "outputs": [],
   "source": [
    "#NOW LETS TALK ABOUT DISTRIBUTUION: DISTRIBUTION IS A BASC CONCEPT OF STATISTICS,WHICH PRESENTS ALL THE DATA OR INFORMATION\n",
    "#OF EVERY COLUMN/ FIELD ASSOCIATED OCCURENCE.\n",
    "#DISTRIBUTION TELLS US INSIGHT OF DATA THROUGH PATTERNS...AND ALSO SHOWS THE OUTLIERS PRESENT IN A PARTICULAR FIELD."
   ]
  },
  {
   "cell_type": "code",
   "execution_count": 44,
   "id": "501c4a8a",
   "metadata": {},
   "outputs": [],
   "source": [
    "#distplot: stands for distribution plot\n",
    "#seaborn library is a visulaization library."
   ]
  },
  {
   "cell_type": "code",
   "execution_count": 45,
   "id": "c8cffd42",
   "metadata": {},
   "outputs": [
    {
     "data": {
      "text/plain": [
       "<AxesSubplot:>"
      ]
     },
     "execution_count": 45,
     "metadata": {},
     "output_type": "execute_result"
    },
    {
     "data": {
      "image/png": "[encoded data removed]",
      "text/plain": [
       "<Figure size 432x288 with 1 Axes>"
      ]
     },
     "metadata": {
      "needs_background": "light"
     },
     "output_type": "display_data"
    }
   ],
   "source": [
    "plt.subplot(2,4,3)  #2: two dimensions"
   ]
  },
  {
   "cell_type": "code",
   "execution_count": 46,
   "id": "42378ca7",
   "metadata": {},
   "outputs": [
    {
     "name": "stderr",
     "output_type": "stream",
     "text": [
      "C:\\Users\\Admin\\New_anaconda\\lib\\site-packages\\seaborn\\distributions.py:2557: FutureWarning: `distplot` is a deprecated function and will be removed in a future version. Please adapt your code to use either `displot` (a figure-level function with similar flexibility) or `histplot` (an axes-level function for histograms).\n",
      "  warnings.warn(msg, FutureWarning)\n"
     ]
    },
    {
     "data": {
      "image/png": "[encoded data removed]",
      "text/plain": [
       "<Figure size 432x288 with 1 Axes>"
      ]
     },
     "metadata": {
      "needs_background": "light"
     },
     "output_type": "display_data"
    }
   ],
   "source": [
    "plt.subplot(2,4,3)\n",
    "sns.distplot(data['K'],color='darkblue')\n",
    "plt.subplots_adjust(left=0.1)\n"
   ]
  },
  {
   "cell_type": "code",
   "execution_count": 47,
   "id": "ad877e31",
   "metadata": {},
   "outputs": [
    {
     "name": "stderr",
     "output_type": "stream",
     "text": [
      "C:\\Users\\Admin\\New_anaconda\\lib\\site-packages\\seaborn\\distributions.py:2557: FutureWarning: `distplot` is a deprecated function and will be removed in a future version. Please adapt your code to use either `displot` (a figure-level function with similar flexibility) or `histplot` (an axes-level function for histograms).\n",
      "  warnings.warn(msg, FutureWarning)\n",
      "C:\\Users\\Admin\\New_anaconda\\lib\\site-packages\\seaborn\\distributions.py:2557: FutureWarning: `distplot` is a deprecated function and will be removed in a future version. Please adapt your code to use either `displot` (a figure-level function with similar flexibility) or `histplot` (an axes-level function for histograms).\n",
      "  warnings.warn(msg, FutureWarning)\n",
      "C:\\Users\\Admin\\New_anaconda\\lib\\site-packages\\seaborn\\distributions.py:2557: FutureWarning: `distplot` is a deprecated function and will be removed in a future version. Please adapt your code to use either `displot` (a figure-level function with similar flexibility) or `histplot` (an axes-level function for histograms).\n",
      "  warnings.warn(msg, FutureWarning)\n",
      "C:\\Users\\Admin\\New_anaconda\\lib\\site-packages\\seaborn\\distributions.py:2557: FutureWarning: `distplot` is a deprecated function and will be removed in a future version. Please adapt your code to use either `displot` (a figure-level function with similar flexibility) or `histplot` (an axes-level function for histograms).\n",
      "  warnings.warn(msg, FutureWarning)\n",
      "C:\\Users\\Admin\\New_anaconda\\lib\\site-packages\\seaborn\\distributions.py:2557: FutureWarning: `distplot` is a deprecated function and will be removed in a future version. Please adapt your code to use either `displot` (a figure-level function with similar flexibility) or `histplot` (an axes-level function for histograms).\n",
      "  warnings.warn(msg, FutureWarning)\n",
      "C:\\Users\\Admin\\New_anaconda\\lib\\site-packages\\seaborn\\distributions.py:2557: FutureWarning: `distplot` is a deprecated function and will be removed in a future version. Please adapt your code to use either `displot` (a figure-level function with similar flexibility) or `histplot` (an axes-level function for histograms).\n",
      "  warnings.warn(msg, FutureWarning)\n",
      "C:\\Users\\Admin\\New_anaconda\\lib\\site-packages\\seaborn\\distributions.py:2557: FutureWarning: `distplot` is a deprecated function and will be removed in a future version. Please adapt your code to use either `displot` (a figure-level function with similar flexibility) or `histplot` (an axes-level function for histograms).\n",
      "  warnings.warn(msg, FutureWarning)\n"
     ]
    },
    {
     "data": {
      "image/png": "[encoded data removed]",
      "text/plain": [
       "<Figure size 1296x720 with 7 Axes>"
      ]
     },
     "metadata": {
      "needs_background": "light"
     },
     "output_type": "display_data"
    }
   ],
   "source": [
    "plt.figure(figsize=(18,10))\n",
    "\n",
    "plt.subplot(2,4,1)\n",
    "sns.distplot(data['N'],color='yellow')\n",
    "plt.subplots_adjust(hspace=2,wspace=2)\n",
    "plt.xlabel(\"Ratio of Nitrogen\",fontsize=10)\n",
    "plt.grid()\n",
    "\n",
    "\n",
    "plt.subplot(2,4,2)\n",
    "sns.distplot(data['P'],color='pink')\n",
    "plt.subplots_adjust(hspace=2,wspace=2)\n",
    "plt.xlabel(\"Ratio of Phosphorous\", fontsize=10)\n",
    "plt.grid()\n",
    "\n",
    "\n",
    "plt.subplot(2,4,3)\n",
    "sns.distplot(data['K'],color='darkblue',)\n",
    "plt.subplots_adjust(hspace=2,wspace=2)\n",
    "plt.xlabel(\"Ratio of Potassium\", fontsize=10)\n",
    "plt.grid()\n",
    "\n",
    "plt.subplot(2,4,4)\n",
    "sns.distplot(data['temperature'],color='green')\n",
    "plt.xlabel(\"Temperature\", fontsize=10)\n",
    "plt.grid()\n",
    "\n",
    "\n",
    "plt.subplot(2,4,5)\n",
    "sns.distplot(data['rainfall'],color='black')\n",
    "plt.subplots_adjust(hspace=100,wspace=2)\n",
    "plt.xlabel(\"Rainfall\", fontsize=10)\n",
    "plt.grid()\n",
    "\n",
    "\n",
    "plt.subplot(2,4,6)\n",
    "sns.distplot(data['humidity'],color='darkgreen')\n",
    "plt.xlabel(\"Humidity\", fontsize=10)\n",
    "plt.grid()\n",
    "\n",
    "\n",
    "plt.subplot(2,4,7)\n",
    "sns.distplot(data['ph'],color='orange')\n",
    "plt.subplots_adjust(hspace=2,wspace=2)\n",
    "plt.xlabel(\"pH level\", fontsize=10)\n",
    "plt.grid()\n",
    "\n",
    "\n",
    "plt.suptitle(\"Distribution for Agricultural Conditions\", fontsize=20)\n",
    "plt.show()"
   ]
  },
  {
   "cell_type": "code",
   "execution_count": 48,
   "id": "c51c8dd7",
   "metadata": {},
   "outputs": [
    {
     "name": "stdout",
     "output_type": "stream",
     "text": [
      "Some Interesting Patterns\n",
      "--------------------------------------------------------\n",
      "Crops which requires very High Ratio of Nitrogen content in soil: ['cotton']\n",
      "\n",
      "Crops which requires very High Ratio of Phosphorous content in soil: ['grapes' 'apple']\n",
      "\n",
      "Crops which requires very High Ratio of Potassium content in soil: ['grapes' 'apple']\n",
      "\n",
      "Crops which requires very High Rainfall : ['rice' 'papaya' 'coconut']\n",
      "\n",
      "Crops which requires very Low Rainfall : ['rice' 'maize' 'chickpea' 'kidneybeans' 'pigeonpeas' 'mothbeans'\n",
      " 'mungbean' 'blackgram' 'lentil' 'pomegranate' 'banana' 'mango' 'grapes'\n",
      " 'watermelon' 'muskmelon' 'apple' 'orange' 'papaya' 'coconut' 'cotton'\n",
      " 'jute' 'coffee']\n",
      "\n",
      "Crops which requires very Low Temperature: ['rice' 'maize' 'chickpea' 'kidneybeans' 'pigeonpeas' 'mothbeans'\n",
      " 'mungbean' 'blackgram' 'lentil' 'pomegranate' 'banana' 'mango' 'grapes'\n",
      " 'watermelon' 'muskmelon' 'apple' 'orange' 'papaya' 'coconut' 'cotton'\n",
      " 'jute' 'coffee']\n",
      "\n",
      "Crops which requires very High Temperature: ['grapes' 'papaya']\n",
      "\n",
      "Crops which requires very Low Humidity: ['chickpea' 'kidneybeans']\n",
      "\n",
      "Crops which requires very Low pH: ['mothbeans']\n",
      "\n",
      "Crops which requires very High pH : ['mothbeans']\n"
     ]
    }
   ],
   "source": [
    "#Lets find out some interseting facts.\n",
    "print('Some Interesting Patterns')\n",
    "print(\"--------------------------------------------------------\")\n",
    "print(\"Crops which requires very High Ratio of Nitrogen content in soil:\",data[data['N']> 120]['label'].unique())\n",
    "print(\"\\nCrops which requires very High Ratio of Phosphorous content in soil:\",data[data['P']> 100]['label'].unique())\n",
    "print(\"\\nCrops which requires very High Ratio of Potassium content in soil:\",data[data['K']> 200]['label'].unique())\n",
    "print(\"\\nCrops which requires very High Rainfall :\",data[data['rainfall']> 200]['label'].unique())\n",
    "print(\"\\nCrops which requires very Low Rainfall :\",data[data['rainfall']< 200]['label'].unique())\n",
    "print(\"\\nCrops which requires very Low Temperature:\",data[data['temperature']> 10]['label'].unique())\n",
    "print(\"\\nCrops which requires very High Temperature:\",data[data['temperature']> 40]['label'].unique())\n",
    "print(\"\\nCrops which requires very Low Humidity:\",data[data['humidity']< 20]['label'].unique())\n",
    "print(\"\\nCrops which requires very Low pH:\",data[data['ph']< 4]['label'].unique())\n",
    "print(\"\\nCrops which requires very High pH :\",data[data['ph']> 9]['label'].unique())\n"
   ]
  },
  {
   "cell_type": "code",
   "execution_count": 49,
   "id": "5a60a04e",
   "metadata": {},
   "outputs": [
    {
     "name": "stdout",
     "output_type": "stream",
     "text": [
      "Summer Crops:\n",
      "['pigeonpeas' 'mothbeans' 'blackgram' 'mango' 'grapes' 'orange' 'papaya']\n",
      "------------------------------------------------------------------------\n",
      "Winter Crops:\n",
      "['maize' 'pigeonpeas' 'lentil' 'pomegranate' 'grapes' 'orange']\n",
      "------------------------------------------------------------------------\n",
      "Rainy Crops:\n",
      "['rice' 'maize' 'pigeonpeas' 'mothbeans' 'mungbean' 'blackgram' 'lentil'\n",
      " 'pomegranate' 'banana' 'mango' 'grapes' 'watermelon' 'muskmelon' 'apple'\n",
      " 'orange' 'papaya' 'coconut' 'cotton' 'jute' 'coffee']\n",
      "------------------------------------------------------------------------\n"
     ]
    }
   ],
   "source": [
    "#Lets understand which crops can only be grown in Summer Season,Winter Season and Rainy Season.\n",
    "\n",
    "print(\"Summer Crops:\")\n",
    "print(data[(data['temperature']>30)& (data['humidity']> 50)]['label'].unique())\n",
    "print(\"------------------------------------------------------------------------\")\n",
    "print(\"Winter Crops:\")\n",
    "print(data[(data['temperature']<20)& (data['humidity']> 30)]['label'].unique())\n",
    "print(\"------------------------------------------------------------------------\")\n",
    "print(\"Rainy Crops:\")\n",
    "print(data[(data['temperature']>20)& (data['humidity']> 30)]['label'].unique())\n",
    "print(\"------------------------------------------------------------------------\")"
   ]
  },
  {
   "cell_type": "code",
   "execution_count": 50,
   "id": "f185be5f",
   "metadata": {},
   "outputs": [],
   "source": [
    "#NOW FROM HERE ONWARDS...WE WILL LIST OUT THOSE KIND OF CROPS WHICH NEED SAME/SIMILAR KIND OF CONDITIONS TO GROW.\n",
    "#FOR DOING SO WE WILL USE THE CONCEPT OF CLUSTERING ANALYSIS."
   ]
  },
  {
   "cell_type": "code",
   "execution_count": 51,
   "id": "b9a07189",
   "metadata": {},
   "outputs": [],
   "source": [
    "#WHAT IS CLUSTERING ANALYSIS:\n",
    "#• Cluster: a collection of data objects\n",
    "#    – Similar to one another within the same cluster\n",
    "#    – Dissimilar to the objects in other clusters\n",
    "#• Cluster analysis\n",
    "#     – Grouping a set of data objects into clusters\n",
    "#• Clustering is unsupervised classification: no predefined classes "
   ]
  },
  {
   "cell_type": "code",
   "execution_count": 52,
   "id": "03fcc27b",
   "metadata": {},
   "outputs": [],
   "source": [
    "#for clustering we gonna use k-mean clustering algorithm.\n",
    "#first import KMeans from sklearn library."
   ]
  },
  {
   "cell_type": "code",
   "execution_count": 53,
   "id": "a2c30c6e",
   "metadata": {},
   "outputs": [
    {
     "name": "stdout",
     "output_type": "stream",
     "text": [
      "(2200, 7)\n"
     ]
    }
   ],
   "source": [
    "from sklearn.cluster import KMeans\n",
    "\n",
    "#removing the labels column # because this is unsupervised .\n",
    "x=data.drop(['label'],axis=1)\n",
    "\n",
    "#Now our data is ready for clustering analysis.\n",
    "\n",
    "\n",
    "#selecting all the values of the data\n",
    "x=x.values\n",
    "\n",
    "\n",
    "#checking the shape\n",
    "print(x.shape)"
   ]
  },
  {
   "cell_type": "code",
   "execution_count": 54,
   "id": "cf27ca7c",
   "metadata": {},
   "outputs": [],
   "source": [
    "#Now using this clustering KMeans algorithm we gonna train your data.....But before that we should have the knowledage of \n",
    "#that what is the number of cluster formation should takes place.....ie. total number of clusters ?"
   ]
  },
  {
   "cell_type": "code",
   "execution_count": 55,
   "id": "1ca4faf3",
   "metadata": {},
   "outputs": [],
   "source": [
    "#SO , FOR FINDING THE NUMBER OF CLUSTERS , WE GONNA USE A METHOD CALLED ELBOW METHOD."
   ]
  },
  {
   "cell_type": "code",
   "execution_count": 56,
   "id": "b0126736",
   "metadata": {},
   "outputs": [],
   "source": [
    "#FIND ELBOWS : BENDS IN THE CHART..."
   ]
  },
  {
   "cell_type": "code",
   "execution_count": 57,
   "id": "ab54bea3",
   "metadata": {},
   "outputs": [
    {
     "data": {
      "image/png": "[encoded data removed]",
      "text/plain": [
       "<Figure size 720x288 with 1 Axes>"
      ]
     },
     "metadata": {
      "needs_background": "light"
     },
     "output_type": "display_data"
    }
   ],
   "source": [
    "#Lets determine the optimum number of clusters within the dataset.\n",
    "\n",
    "\n",
    "plt.rcParams['figure.figsize']=(10,4)\n",
    "\n",
    "wcss=[]\n",
    "for i in range(1,11):\n",
    "    km=KMeans(n_clusters=i,init='k-means++',max_iter =300,n_init=10,random_state=0)\n",
    "    km.fit(x)\n",
    "    wcss.append(km.inertia_)\n",
    "    \n",
    "#Lets plot the results\n",
    "plt.plot(range(1,11),wcss)\n",
    "plt.title(\"The Elbow Method\",fontsize=25)\n",
    "plt.xlabel(\"No.of Clusters\")\n",
    "plt.ylabel(\"wcss\")\n",
    "plt.show()"
   ]
  },
  {
   "cell_type": "code",
   "execution_count": 58,
   "id": "aead0047",
   "metadata": {},
   "outputs": [],
   "source": [
    "# we can see that we get two elbows here....one is at 3 and other is at 4....so which one to choose? so answer is the last of \n",
    "# that is choose 4....means we gonna have total no of clusters is 4...4 IS CALLED OPTIMAL CLUSTERS."
   ]
  },
  {
   "cell_type": "code",
   "execution_count": 59,
   "id": "bcf2f16c",
   "metadata": {},
   "outputs": [],
   "source": [
    "#NOW WE ARE AT THE STATE TO APPLY K MEANS CLUSTERING ON OUT DATA....."
   ]
  },
  {
   "cell_type": "code",
   "execution_count": 60,
   "id": "ff5a6871",
   "metadata": {},
   "outputs": [],
   "source": [
    "#1. DEFINE K MEAN CLUSTER FIRST ON THE DATA .\n",
    "#2. THEN TRAIN THIS DATASET ON THIS ALGORITHM.\n",
    "#3. AFTER THE TRAINING...STORE THE TRAINED DATA INTO VARIABLE CALLED y_means...and we are all done..."
   ]
  },
  {
   "cell_type": "code",
   "execution_count": 61,
   "id": "0876a745",
   "metadata": {},
   "outputs": [
    {
     "name": "stdout",
     "output_type": "stream",
     "text": [
      "Lets check the results after applying the K Means Clustering Analysis \n",
      "\n",
      "Crops in First Cluster: ['maize' 'chickpea' 'kidneybeans' 'pigeonpeas' 'mothbeans' 'mungbean'\n",
      " 'blackgram' 'lentil' 'pomegranate' 'mango' 'orange' 'papaya' 'coconut']\n",
      "----------------------------------------------------------------------------\n",
      "Crops in Second Cluster: ['maize' 'banana' 'watermelon' 'muskmelon' 'papaya' 'cotton' 'coffee']\n",
      "----------------------------------------------------------------------------\n",
      "Crops in Third Cluster: ['grapes' 'apple']\n",
      "----------------------------------------------------------------------------\n",
      "Crops in Forth Cluster: ['rice' 'pigeonpeas' 'papaya' 'coconut' 'jute' 'coffee']\n",
      "----------------------------------------------------------------------------\n"
     ]
    }
   ],
   "source": [
    "#Lets implement the K Means algorithm to perform clustering analysis.\n",
    "\n",
    "km=KMeans(n_clusters=4,init='k-means++',max_iter=300,n_init=10,random_state=0)\n",
    "y_means=km.fit_predict(x)\n",
    "\n",
    "\n",
    "\n",
    "#Lets find out the results    \n",
    "a=data['label']\n",
    "y_means=pd.DataFrame(y_means)\n",
    "z=pd.concat([y_means,a],axis=1)\n",
    "z=z.rename(columns={0:'cluster'})\n",
    "\n",
    "\n",
    "#Lets check the clusters of each crops.\n",
    "\n",
    "print(\"Lets check the results after applying the K Means Clustering Analysis \\n\")\n",
    "print(\"Crops in First Cluster:\",z[z['cluster']==0]['label'].unique())\n",
    "print(\"----------------------------------------------------------------------------\")\n",
    "print(\"Crops in Second Cluster:\",z[z['cluster']==1]['label'].unique())\n",
    "print(\"----------------------------------------------------------------------------\")\n",
    "print(\"Crops in Third Cluster:\",z[z['cluster']==2]['label'].unique())\n",
    "print(\"----------------------------------------------------------------------------\")\n",
    "print(\"Crops in Forth Cluster:\",z[z['cluster']==3]['label'].unique())\n",
    "print(\"----------------------------------------------------------------------------\")\n"
   ]
  },
  {
   "cell_type": "code",
   "execution_count": 62,
   "id": "ea5e807c",
   "metadata": {},
   "outputs": [],
   "source": [
    "#FROM THESE ABOVE RESULTS...IT WILL MORE EASIER FOR FARMERS TO ADOPT MORDERN FARMING,THEIR PRODUCTIVITY AND PROFIT WILL \n",
    "#ABSOLUTELY INC."
   ]
  },
  {
   "cell_type": "code",
   "execution_count": 63,
   "id": "9cefa279",
   "metadata": {},
   "outputs": [],
   "source": [
    "#NOW WE GONNA BUILD A PREDICTIVE MODEL,WHICH GONNA PRESENT MOST SUITABLE CROPS FOR EACH SPECIFIC CONDITION.\n",
    "#1.STEP IS TO TRAIN THE DATASET USING MACHINE LEARNING MODEL."
   ]
  },
  {
   "cell_type": "code",
   "execution_count": 64,
   "id": "6b66011d",
   "metadata": {},
   "outputs": [],
   "source": [
    "#PREDICTIVE MODELING:\n",
    "#         ------PREDICTIVE MODELING IS A PART OF ARTIFICAL INTELLIGENCE.\n",
    "#         ------USING OUR DATASET IN ANY PREDICTIVE MODEL,WE GONNA BUILD A MODEL,AND AS MODEL IS TRAINED, THEN WE GONNA USE THAT\n",
    "# MODEL FOR UNSEEN DATA PREDICTION."
   ]
  },
  {
   "cell_type": "code",
   "execution_count": 65,
   "id": "e8bf1c22",
   "metadata": {},
   "outputs": [],
   "source": [
    "#FOR CHECKING WHETHER THE MODEL, IS GIVING IS THE RIGHT PREDICITION OR NOT.....FOR THAT WE HAVE DIFF TYPE OF EVALUATION MATRIX...\n",
    "#EVALUATION MATRIX GONNA GIVE US ACCURACY SCORE...WHICH INDICATES...WHEATHER OUR MODEL IS CORRECT OR NOT."
   ]
  },
  {
   "cell_type": "code",
   "execution_count": 66,
   "id": "807d4f77",
   "metadata": {},
   "outputs": [],
   "source": [
    "#CREATING MACHINE LEARNING PREDICITVE MODEL...\n",
    "#AND FOR CREATING THIS MODEL...WE GONNA USE LOGISTIC REGRESSION ALGORITHM...\n",
    "#LOGISTIC REG: IT IS A PROBABLILISTIC MODEL,PERFORMS AWESOME IN CASE OF MULTIPLE CLASS...."
   ]
  },
  {
   "cell_type": "code",
   "execution_count": 67,
   "id": "19b25465",
   "metadata": {},
   "outputs": [],
   "source": [
    "#FIRST OF ALL WE HAVE TO REMOVE THE 'LABEL' COLUMN FROM OUR DATASET SO, THAT OUR MODEL CANNOT CHEAT ANYHOW/OR GONNA  BIAS."
   ]
  },
  {
   "cell_type": "code",
   "execution_count": 68,
   "id": "f61afe87",
   "metadata": {},
   "outputs": [
    {
     "name": "stdout",
     "output_type": "stream",
     "text": [
      "shape of x (2200, 7)\n",
      "shape of y (2200,)\n"
     ]
    }
   ],
   "source": [
    "#Lets split the dataset for predicitve modeling..\n",
    "\n",
    "y=data['label']\n",
    "x=data.drop(['label'],axis=1)\n",
    "\n",
    "print(\"shape of x\",x.shape)\n",
    "print(\"shape of y\",y.shape)"
   ]
  },
  {
   "cell_type": "code",
   "execution_count": 69,
   "id": "92120887",
   "metadata": {},
   "outputs": [],
   "source": [
    "#now split the dataset into trainig set and testing set.\n"
   ]
  },
  {
   "cell_type": "code",
   "execution_count": 70,
   "id": "b515f79b",
   "metadata": {},
   "outputs": [
    {
     "name": "stdout",
     "output_type": "stream",
     "text": [
      "The shape of x train:  (1760, 7)\n",
      "The shape of x test:  (440, 7)\n",
      "The shape of y train:  (1760,)\n",
      "The shape of y test:  (440,)\n"
     ]
    }
   ],
   "source": [
    "#Lets create Training and Testing sets for Variation of Results.\n",
    "from sklearn.model_selection import train_test_split\n",
    "\n",
    "x_train,x_test,y_train,y_test=train_test_split(x,y,test_size=0.2,random_state=0)\n",
    "\n",
    "print(\"The shape of x train: \",x_train.shape)\n",
    "print(\"The shape of x test: \",x_test.shape)\n",
    "print(\"The shape of y train: \",y_train.shape)\n",
    "print(\"The shape of y test: \",y_test.shape)"
   ]
  },
  {
   "cell_type": "code",
   "execution_count": 71,
   "id": "c90be22d",
   "metadata": {},
   "outputs": [],
   "source": [
    "#now import the model : logistic regression from linear_model from lib sklearn."
   ]
  },
  {
   "cell_type": "code",
   "execution_count": 72,
   "id": "862ce833",
   "metadata": {},
   "outputs": [
    {
     "name": "stderr",
     "output_type": "stream",
     "text": [
      "C:\\Users\\Admin\\New_anaconda\\lib\\site-packages\\sklearn\\linear_model\\_logistic.py:763: ConvergenceWarning: lbfgs failed to converge (status=1):\n",
      "STOP: TOTAL NO. of ITERATIONS REACHED LIMIT.\n",
      "\n",
      "Increase the number of iterations (max_iter) or scale the data as shown in:\n",
      "    https://scikit-learn.org/stable/modules/preprocessing.html\n",
      "Please also refer to the documentation for alternative solver options:\n",
      "    https://scikit-learn.org/stable/modules/linear_model.html#logistic-regression\n",
      "  n_iter_i = _check_optimize_result(\n"
     ]
    }
   ],
   "source": [
    "#Lets create a Predictive Model.\n",
    "\n",
    "from sklearn.linear_model import LogisticRegression\n",
    "\n",
    "model=LogisticRegression()\n",
    "model.fit(x_train,y_train)\n",
    "y_pred=model.predict(x_test)"
   ]
  },
  {
   "cell_type": "code",
   "execution_count": 73,
   "id": "540b7704",
   "metadata": {},
   "outputs": [],
   "source": [
    "#model=LogisticRegression()\n",
    "#model.fit(x_train,y_train)\n",
    "# from above, now our model is trained now..."
   ]
  },
  {
   "cell_type": "code",
   "execution_count": 74,
   "id": "6ba63a58",
   "metadata": {},
   "outputs": [],
   "source": [
    "#now check whether model is accurate or not...by predicting the values over testing set."
   ]
  },
  {
   "cell_type": "code",
   "execution_count": 75,
   "id": "8e1029b5",
   "metadata": {},
   "outputs": [],
   "source": [
    "#y_pred=model.predict(x_test) from this...we know the value of predicted values of x.. x_test is store stored into y_pred.\n",
    "# so to check the accuracy we just have to compare the value of y_pred with y_test.....for that we gonna use classification\n",
    "#report..we have to import it from sklearn library."
   ]
  },
  {
   "cell_type": "code",
   "execution_count": 76,
   "id": "8266b4cf",
   "metadata": {},
   "outputs": [
    {
     "data": {
      "image/png": "[encoded data removed]",
      "text/plain": [
       "<Figure size 720x720 with 2 Axes>"
      ]
     },
     "metadata": {
      "needs_background": "light"
     },
     "output_type": "display_data"
    }
   ],
   "source": [
    "#Lets evaluate the Model Performance.\n",
    "from sklearn.metrics import confusion_matrix\n",
    "\n",
    "#lets print the confusion matrix first.\n",
    "plt.rcParams['figure.figsize']=(10,10)\n",
    "cm=confusion_matrix(y_test,y_pred)\n",
    "sns.heatmap(cm,annot=True, cmap=\"Wistia\")\n",
    "plt.title(\"Confusion Matrix For Logistic Regression\",fontsize=15)\n",
    "plt.show()"
   ]
  },
  {
   "cell_type": "code",
   "execution_count": 79,
   "id": "d1b16610",
   "metadata": {},
   "outputs": [
    {
     "name": "stdout",
     "output_type": "stream",
     "text": [
      "              precision    recall  f1-score   support\n",
      "\n",
      "       apple       1.00      1.00      1.00        18\n",
      "      banana       1.00      1.00      1.00        18\n",
      "   blackgram       0.86      0.82      0.84        22\n",
      "    chickpea       1.00      1.00      1.00        23\n",
      "     coconut       1.00      1.00      1.00        15\n",
      "      coffee       1.00      1.00      1.00        17\n",
      "      cotton       0.89      1.00      0.94        16\n",
      "      grapes       1.00      1.00      1.00        18\n",
      "        jute       0.84      1.00      0.91        21\n",
      " kidneybeans       1.00      1.00      1.00        20\n",
      "      lentil       0.94      0.94      0.94        17\n",
      "       maize       0.94      0.89      0.91        18\n",
      "       mango       1.00      1.00      1.00        21\n",
      "   mothbeans       0.88      0.92      0.90        25\n",
      "    mungbean       1.00      1.00      1.00        17\n",
      "   muskmelon       1.00      1.00      1.00        23\n",
      "      orange       1.00      1.00      1.00        23\n",
      "      papaya       1.00      0.95      0.98        21\n",
      "  pigeonpeas       1.00      1.00      1.00        22\n",
      " pomegranate       1.00      1.00      1.00        23\n",
      "        rice       1.00      0.84      0.91        25\n",
      "  watermelon       1.00      1.00      1.00        17\n",
      "\n",
      "    accuracy                           0.97       440\n",
      "   macro avg       0.97      0.97      0.97       440\n",
      "weighted avg       0.97      0.97      0.97       440\n",
      "\n"
     ]
    }
   ],
   "source": [
    "#Lets print the Classification report also\n",
    "from sklearn.metrics import classification_report\n",
    "cr = classification_report(y_test,y_pred)\n",
    "print(cr)\n",
    "\n",
    "\n",
    "\n",
    "# if the value of recall and precision is high this implies that our model is best trained and our model is very accurate.\n",
    "\n",
    "#In information retrieval, a perfect precision score of 1.0 means that every result retrieved by search was relevant.\n",
    "#whereas, a perfect recall score of 1.0 means that all relevant documents were retrived by the search.\n",
    "\n",
    "#f1 score gives the harmonic mean of precision and recall...is a measure of model's accuracy on a dataset.\n",
    "#support: support is the number of actual occurrances of the class in the specified dataset."
   ]
  },
  {
   "cell_type": "code",
   "execution_count": 80,
   "id": "75186548",
   "metadata": {},
   "outputs": [],
   "source": [
    "#to check whether it is working correct or not...we gonna have an input from exisiting data...and cross check it...\n",
    "#like we gonna give soil and weather condition for rice in the model...without telling  the model about the crop name..\n",
    "#just we gonna input the conditons of soil and climate....and we gonna check wheather it will return \"RICE\"  as its answer or not."
   ]
  },
  {
   "cell_type": "code",
   "execution_count": 82,
   "id": "f7daa70c",
   "metadata": {},
   "outputs": [
    {
     "data": {
      "text/html": [
       "<div>\n",
       "<style scoped>\n",
       "    .dataframe tbody tr th:only-of-type {\n",
       "        vertical-align: middle;\n",
       "    }\n",
       "\n",
       "    .dataframe tbody tr th {\n",
       "        vertical-align: top;\n",
       "    }\n",
       "\n",
       "    .dataframe thead th {\n",
       "        text-align: right;\n",
       "    }\n",
       "</style>\n",
       "<table border=\"1\" class=\"dataframe\">\n",
       "  <thead>\n",
       "    <tr style=\"text-align: right;\">\n",
       "      <th></th>\n",
       "      <th>N</th>\n",
       "      <th>P</th>\n",
       "      <th>K</th>\n",
       "      <th>temperature</th>\n",
       "      <th>humidity</th>\n",
       "      <th>ph</th>\n",
       "      <th>rainfall</th>\n",
       "      <th>label</th>\n",
       "    </tr>\n",
       "  </thead>\n",
       "  <tbody>\n",
       "    <tr>\n",
       "      <th>0</th>\n",
       "      <td>90</td>\n",
       "      <td>42</td>\n",
       "      <td>43</td>\n",
       "      <td>20.879744</td>\n",
       "      <td>82.002744</td>\n",
       "      <td>6.502985</td>\n",
       "      <td>202.935536</td>\n",
       "      <td>rice</td>\n",
       "    </tr>\n",
       "    <tr>\n",
       "      <th>1</th>\n",
       "      <td>85</td>\n",
       "      <td>58</td>\n",
       "      <td>41</td>\n",
       "      <td>21.770462</td>\n",
       "      <td>80.319644</td>\n",
       "      <td>7.038096</td>\n",
       "      <td>226.655537</td>\n",
       "      <td>rice</td>\n",
       "    </tr>\n",
       "    <tr>\n",
       "      <th>2</th>\n",
       "      <td>60</td>\n",
       "      <td>55</td>\n",
       "      <td>44</td>\n",
       "      <td>23.004459</td>\n",
       "      <td>82.320763</td>\n",
       "      <td>7.840207</td>\n",
       "      <td>263.964248</td>\n",
       "      <td>rice</td>\n",
       "    </tr>\n",
       "    <tr>\n",
       "      <th>3</th>\n",
       "      <td>74</td>\n",
       "      <td>35</td>\n",
       "      <td>40</td>\n",
       "      <td>26.491096</td>\n",
       "      <td>80.158363</td>\n",
       "      <td>6.980401</td>\n",
       "      <td>242.864034</td>\n",
       "      <td>rice</td>\n",
       "    </tr>\n",
       "    <tr>\n",
       "      <th>4</th>\n",
       "      <td>78</td>\n",
       "      <td>42</td>\n",
       "      <td>42</td>\n",
       "      <td>20.130175</td>\n",
       "      <td>81.604873</td>\n",
       "      <td>7.628473</td>\n",
       "      <td>262.717340</td>\n",
       "      <td>rice</td>\n",
       "    </tr>\n",
       "  </tbody>\n",
       "</table>\n",
       "</div>"
      ],
      "text/plain": [
       "    N   P   K  temperature   humidity        ph    rainfall label\n",
       "0  90  42  43    20.879744  82.002744  6.502985  202.935536  rice\n",
       "1  85  58  41    21.770462  80.319644  7.038096  226.655537  rice\n",
       "2  60  55  44    23.004459  82.320763  7.840207  263.964248  rice\n",
       "3  74  35  40    26.491096  80.158363  6.980401  242.864034  rice\n",
       "4  78  42  42    20.130175  81.604873  7.628473  262.717340  rice"
      ]
     },
     "execution_count": 82,
     "metadata": {},
     "output_type": "execute_result"
    }
   ],
   "source": [
    "#Lets check the head of the dataset .\n",
    "data.head()"
   ]
  },
  {
   "cell_type": "code",
   "execution_count": 84,
   "id": "a89de2b8",
   "metadata": {},
   "outputs": [],
   "source": [
    "# now from here ..scrape some data and use it as input for our model to cross check the name of the crop"
   ]
  },
  {
   "cell_type": "markdown",
   "id": "d5a4e20f",
   "metadata": {},
   "source": [
    "# PREDICTION"
   ]
  },
  {
   "cell_type": "code",
   "execution_count": 89,
   "id": "bd7d7144",
   "metadata": {},
   "outputs": [
    {
     "name": "stdout",
     "output_type": "stream",
     "text": [
      "The suggested crop for given climatic condition is: ['rice']\n"
     ]
    }
   ],
   "source": [
    "prediction=model.predict((np.array([[90,40,40,20,80,7,200]])))\n",
    "print(\"The suggested crop for given climatic condition is:\" , prediction)"
   ]
  },
  {
   "cell_type": "code",
   "execution_count": null,
   "id": "6066c558",
   "metadata": {},
   "outputs": [],
   "source": []
  }
 ],
 "metadata": {
  "kernelspec": {
   "display_name": "Python 3",
   "language": "python",
   "name": "python3"
  },
  "language_info": {
   "codemirror_mode": {
    "name": "ipython",
    "version": 3
   },
   "file_extension": ".py",
   "mimetype": "text/x-python",
   "name": "python",
   "nbconvert_exporter": "python",
   "pygments_lexer": "ipython3",
   "version": "3.8.8"
  }
 },
 "nbformat": 4,
 "nbformat_minor": 5
}
